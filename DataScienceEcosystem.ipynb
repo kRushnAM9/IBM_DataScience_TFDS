{
 "cells": [
  {
   "cell_type": "markdown",
   "metadata": {},
   "source": [
    "<center>\n",
    "    <img src=\"https://cf-courses-data.s3.us.cloud-object-storage.appdomain.cloud/IBMDeveloperSkillsNetwork-DS0105EN-SkillsNetwork/labs/Module2/images/SN_web_lightmode.png\" width=\"300\" alt=\"cognitiveclass.ai logo\">\n",
    "</center>\n"
   ]
  },
  {
   "cell_type": "markdown",
   "metadata": {},
   "source": [
    "#### Add your code below following the instructions given in the course\n"
   ]
  },
  {
   "cell_type": "markdown",
   "metadata": {},
   "source": [
    "# Data Science Tool and Ecosystem"
   ]
  },
  {
   "cell_type": "markdown",
   "metadata": {
    "tags": []
   },
   "source": [
    "![2-title.png](https://jupyterlab-2-labs-prod-jupyterlab-us-east-0.labs.cognitiveclass.ai/user/bhavasekhara/files/labs/Module2_Coursera/Screenshot%202024-06-18%20at%2011.24.27%E2%80%AFPM.png?_xsrf=MnwxOjB8MTA6MTcxODczMzAxMXw1Ol94c3JmfDEzMjpNVGN6WkRCaVlUSmhNalJqTkdZM05HSmtPREk0TmpVNU1HVmtaVGN4WWpBNk1HVmhZbU0yTVdVeU5HSTFaVFpqWWpnME4yTXpZak16T0RCaE5EWmpORFV6TURsbU4ySTNNalUyTURsaU5qQmtOVEUwTVdaaFpqZ3haamhtT0RSa09RPT18ZWE2NDQ1ZjRmMWVkZGM0MjM0ZDg4NjEzZGUzMTRkYTIyMDU4ZTM5MDU5NWYzMDRkMDJhNzMyNjU0Zjc2NWIyYQ)"
   ]
  },
  {
   "cell_type": "markdown",
   "metadata": {},
   "source": [
    "## In this note book, Data Science Tools and Ecosystem are summarized."
   ]
  },
  {
   "cell_type": "markdown",
   "metadata": {},
   "source": [
    "![3-intro.png](https://jupyterlab-2-labs-prod-jupyterlab-us-east-0.labs.cognitiveclass.ai/user/bhavasekhara/files/labs/Module2_Coursera/Screenshot%202024-06-18%20at%2011.33.26%E2%80%AFPM.png?_xsrf=MnwxOjB8MTA6MTcxODczMzAxMXw1Ol94c3JmfDEzMjpNVGN6WkRCaVlUSmhNalJqTkdZM05HSmtPREk0TmpVNU1HVmtaVGN4WWpBNk1HVmhZbU0yTVdVeU5HSTFaVFpqWWpnME4yTXpZak16T0RCaE5EWmpORFV6TURsbU4ySTNNalUyTURsaU5qQmtOVEUwTVdaaFpqZ3haamhtT0RSa09RPT18ZWE2NDQ1ZjRmMWVkZGM0MjM0ZDg4NjEzZGUzMTRkYTIyMDU4ZTM5MDU5NWYzMDRkMDJhNzMyNjU0Zjc2NWIyYQ)"
   ]
  },
  {
   "cell_type": "markdown",
   "metadata": {},
   "source": [
    "__Objectives:__\n",
    "* Popular languages used by Data scientists\n",
    "* Popular libraries used by Data scientists\n",
    "* How to do basic arithmetic in Juptr markdown\n",
    "* How to create tables in Jupytr markdown"
   ]
  },
  {
   "cell_type": "markdown",
   "metadata": {},
   "source": [
    "## Author\n",
    "Chiliveru_RamaKrishna"
   ]
  },
  {
   "cell_type": "markdown",
   "metadata": {},
   "source": [
    "#### Some of the popular languages that Data Scientists use are:\n",
    "1. Python\n",
    "2. R\n",
    "3. SQL\n",
    "4. Java"
   ]
  },
  {
   "cell_type": "markdown",
   "metadata": {},
   "source": [
    "![4-dslanguages.png](https://jupyterlab-2-labs-prod-jupyterlab-us-east-0.labs.cognitiveclass.ai/user/bhavasekhara/files/labs/Module2_Coursera/Screenshot%202024-06-18%20at%2011.39.50%E2%80%AFPM.png?_xsrf=MnwxOjB8MTA6MTcxODczMzAxMXw1Ol94c3JmfDEzMjpNVGN6WkRCaVlUSmhNalJqTkdZM05HSmtPREk0TmpVNU1HVmtaVGN4WWpBNk1HVmhZbU0yTVdVeU5HSTFaVFpqWWpnME4yTXpZak16T0RCaE5EWmpORFV6TURsbU4ySTNNalUyTURsaU5qQmtOVEUwTVdaaFpqZ3haamhtT0RSa09RPT18ZWE2NDQ1ZjRmMWVkZGM0MjM0ZDg4NjEzZGUzMTRkYTIyMDU4ZTM5MDU5NWYzMDRkMDJhNzMyNjU0Zjc2NWIyYQ)"
   ]
  },
  {
   "cell_type": "markdown",
   "metadata": {
    "tags": []
   },
   "source": [
    "#### Some of the commonly used libraries used by Data Scientists include:\n",
    "1. NumPy\n",
    "2. MatPlotLib\n",
    "3. Pandas\n",
    "4. Scikit-learn\n",
    "5. Seaaborn"
   ]
  },
  {
   "cell_type": "markdown",
   "metadata": {},
   "source": [
    "![5-dslibraries.png](https://jupyterlab-2-labs-prod-jupyterlab-us-east-0.labs.cognitiveclass.ai/user/bhavasekhara/files/labs/Module2_Coursera/Screenshot%202024-06-18%20at%2011.43.42%E2%80%AFPM.png?_xsrf=MnwxOjB8MTA6MTcxODczMzAxMXw1Ol94c3JmfDEzMjpNVGN6WkRCaVlUSmhNalJqTkdZM05HSmtPREk0TmpVNU1HVmtaVGN4WWpBNk1HVmhZbU0yTVdVeU5HSTFaVFpqWWpnME4yTXpZak16T0RCaE5EWmpORFV6TURsbU4ySTNNalUyTURsaU5qQmtOVEUwTVdaaFpqZ3haamhtT0RSa09RPT18ZWE2NDQ1ZjRmMWVkZGM0MjM0ZDg4NjEzZGUzMTRkYTIyMDU4ZTM5MDU5NWYzMDRkMDJhNzMyNjU0Zjc2NWIyYQ)"
   ]
  },
  {
   "cell_type": "markdown",
   "metadata": {},
   "source": [
    "| Data Science Tools |\n",
    "|--------------------|\n",
    "| Git |\n",
    "| R studio |\n",
    "|Jupytr notebook |"
   ]
  },
  {
   "cell_type": "markdown",
   "metadata": {},
   "source": [
    "![6-dstools.png](https://jupyterlab-2-labs-prod-jupyterlab-us-east-0.labs.cognitiveclass.ai/user/bhavasekhara/files/labs/Module2_Coursera/Screenshot%202024-06-18%20at%2011.49.36%E2%80%AFPM.png?_xsrf=MnwxOjB8MTA6MTcxODczMzAxMXw1Ol94c3JmfDEzMjpNVGN6WkRCaVlUSmhNalJqTkdZM05HSmtPREk0TmpVNU1HVmtaVGN4WWpBNk1HVmhZbU0yTVdVeU5HSTFaVFpqWWpnME4yTXpZak16T0RCaE5EWmpORFV6TURsbU4ySTNNalUyTURsaU5qQmtOVEUwTVdaaFpqZ3haamhtT0RSa09RPT18ZWE2NDQ1ZjRmMWVkZGM0MjM0ZDg4NjEzZGUzMTRkYTIyMDU4ZTM5MDU5NWYzMDRkMDJhNzMyNjU0Zjc2NWIyYQ)"
   ]
  },
  {
   "cell_type": "markdown",
   "metadata": {},
   "source": [
    "### Below are a few examples of evaluating arithmetic expressions in Python"
   ]
  },
  {
   "cell_type": "markdown",
   "metadata": {},
   "source": [
    "![7-introarithmetic.png](https://jupyterlab-2-labs-prod-jupyterlab-us-east-0.labs.cognitiveclass.ai/user/bhavasekhara/files/labs/Module2_Coursera/Screenshot%202024-06-18%20at%2011.51.41%E2%80%AFPM.png?_xsrf=MnwxOjB8MTA6MTcxODczMzAxMXw1Ol94c3JmfDEzMjpNVGN6WkRCaVlUSmhNalJqTkdZM05HSmtPREk0TmpVNU1HVmtaVGN4WWpBNk1HVmhZbU0yTVdVeU5HSTFaVFpqWWpnME4yTXpZak16T0RCaE5EWmpORFV6TURsbU4ySTNNalUyTURsaU5qQmtOVEUwTVdaaFpqZ3haamhtT0RSa09RPT18ZWE2NDQ1ZjRmMWVkZGM0MjM0ZDg4NjEzZGUzMTRkYTIyMDU4ZTM5MDU5NWYzMDRkMDJhNzMyNjU0Zjc2NWIyYQ)"
   ]
  },
  {
   "cell_type": "markdown",
   "metadata": {
    "tags": []
   },
   "source": [
    "##### This is a simple arithmetic expression to multiply and add integer"
   ]
  },
  {
   "cell_type": "code",
   "execution_count": 3,
   "metadata": {
    "tags": []
   },
   "outputs": [
    {
     "data": {
      "text/plain": [
       "17"
      ]
     },
     "execution_count": 3,
     "metadata": {},
     "output_type": "execute_result"
    }
   ],
   "source": [
    "(3 * 4) + 5"
   ]
  },
  {
   "cell_type": "markdown",
   "metadata": {},
   "source": [
    "![8-multiplyandaddintegers.png](https://jupyterlab-2-labs-prod-jupyterlab-us-east-0.labs.cognitiveclass.ai/user/bhavasekhara/files/labs/Module2_Coursera/Screenshot%202024-06-19%20at%2012.06.37%E2%80%AFAM.png?_xsrf=MnwxOjB8MTA6MTcxODczMzAxMXw1Ol94c3JmfDEzMjpNVGN6WkRCaVlUSmhNalJqTkdZM05HSmtPREk0TmpVNU1HVmtaVGN4WWpBNk1HVmhZbU0yTVdVeU5HSTFaVFpqWWpnME4yTXpZak16T0RCaE5EWmpORFV6TURsbU4ySTNNalUyTURsaU5qQmtOVEUwTVdaaFpqZ3haamhtT0RSa09RPT18ZWE2NDQ1ZjRmMWVkZGM0MjM0ZDg4NjEzZGUzMTRkYTIyMDU4ZTM5MDU5NWYzMDRkMDJhNzMyNjU0Zjc2NWIyYQ)"
   ]
  },
  {
   "cell_type": "markdown",
   "metadata": {
    "tags": []
   },
   "source": [
    "##### This will convert 200 minutes to hours by dividing by 60"
   ]
  },
  {
   "cell_type": "code",
   "execution_count": 5,
   "metadata": {
    "tags": []
   },
   "outputs": [
    {
     "data": {
      "text/plain": [
       "3.3333333333333335"
      ]
     },
     "execution_count": 5,
     "metadata": {},
     "output_type": "execute_result"
    }
   ],
   "source": [
    "200/60"
   ]
  },
  {
   "cell_type": "markdown",
   "metadata": {},
   "source": [
    "![9-hourstominutes.png](https://jupyterlab-2-labs-prod-jupyterlab-us-east-0.labs.cognitiveclass.ai/user/bhavasekhara/files/labs/Module2_Coursera/Screenshot%202024-06-19%20at%2012.10.44%E2%80%AFAM.png?_xsrf=MnwxOjB8MTA6MTcxODczMzAxMXw1Ol94c3JmfDEzMjpNVGN6WkRCaVlUSmhNalJqTkdZM05HSmtPREk0TmpVNU1HVmtaVGN4WWpBNk1HVmhZbU0yTVdVeU5HSTFaVFpqWWpnME4yTXpZak16T0RCaE5EWmpORFV6TURsbU4ySTNNalUyTURsaU5qQmtOVEUwTVdaaFpqZ3haamhtT0RSa09RPT18ZWE2NDQ1ZjRmMWVkZGM0MjM0ZDg4NjEzZGUzMTRkYTIyMDU4ZTM5MDU5NWYzMDRkMDJhNzMyNjU0Zjc2NWIyYQ)"
   ]
  },
  {
   "cell_type": "markdown",
   "metadata": {},
   "source": [
    "![10-objectives.png](https://jupyterlab-2-labs-prod-jupyterlab-us-east-0.labs.cognitiveclass.ai/user/bhavasekhara/files/labs/Module2_Coursera/Screenshot%202024-06-19%20at%2012.16.46%E2%80%AFAM.png?_xsrf=MnwxOjB8MTA6MTcxODczMzAxMXw1Ol94c3JmfDEzMjpNVGN6WkRCaVlUSmhNalJqTkdZM05HSmtPREk0TmpVNU1HVmtaVGN4WWpBNk1HVmhZbU0yTVdVeU5HSTFaVFpqWWpnME4yTXpZak16T0RCaE5EWmpORFV6TURsbU4ySTNNalUyTURsaU5qQmtOVEUwTVdaaFpqZ3haamhtT0RSa09RPT18ZWE2NDQ1ZjRmMWVkZGM0MjM0ZDg4NjEzZGUzMTRkYTIyMDU4ZTM5MDU5NWYzMDRkMDJhNzMyNjU0Zjc2NWIyYQ)"
   ]
  },
  {
   "cell_type": "markdown",
   "metadata": {},
   "source": [
    "![11-authordetails.png](https://jupyterlab-2-labs-prod-jupyterlab-us-east-0.labs.cognitiveclass.ai/user/bhavasekhara/files/labs/Module2_Coursera/Screenshot%202024-06-19%20at%2012.21.13%E2%80%AFAM.png?_xsrf=MnwxOjB8MTA6MTcxODczMzAxMXw1Ol94c3JmfDEzMjpNVGN6WkRCaVlUSmhNalJqTkdZM05HSmtPREk0TmpVNU1HVmtaVGN4WWpBNk1HVmhZbU0yTVdVeU5HSTFaVFpqWWpnME4yTXpZak16T0RCaE5EWmpORFV6TURsbU4ySTNNalUyTURsaU5qQmtOVEUwTVdaaFpqZ3haamhtT0RSa09RPT18ZWE2NDQ1ZjRmMWVkZGM0MjM0ZDg4NjEzZGUzMTRkYTIyMDU4ZTM5MDU5NWYzMDRkMDJhNzMyNjU0Zjc2NWIyYQ)"
   ]
  },
  {
   "cell_type": "code",
   "execution_count": null,
   "metadata": {},
   "outputs": [],
   "source": []
  }
 ],
 "metadata": {
  "kernelspec": {
   "display_name": "Python",
   "language": "python",
   "name": "conda-env-python-py"
  },
  "language_info": {
   "codemirror_mode": {
    "name": "ipython",
    "version": 3
   },
   "file_extension": ".py",
   "mimetype": "text/x-python",
   "name": "python",
   "nbconvert_exporter": "python",
   "pygments_lexer": "ipython3",
   "version": "3.7.12"
  }
 },
 "nbformat": 4,
 "nbformat_minor": 4
}
